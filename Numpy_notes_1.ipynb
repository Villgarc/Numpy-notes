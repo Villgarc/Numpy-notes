{
  "nbformat": 4,
  "nbformat_minor": 0,
  "metadata": {
    "colab": {
      "name": "Numpy notes 1.ipynb",
      "provenance": [],
      "authorship_tag": "ABX9TyOMlxqG2L49wS0v7XjmP8dv",
      "include_colab_link": true
    },
    "kernelspec": {
      "name": "python3",
      "display_name": "Python 3"
    },
    "language_info": {
      "name": "python"
    }
  },
  "cells": [
    {
      "cell_type": "markdown",
      "metadata": {
        "id": "view-in-github",
        "colab_type": "text"
      },
      "source": [
        "<a href=\"https://colab.research.google.com/github/Villgarc/Numpy-notes/blob/main/Numpy_notes_1.ipynb\" target=\"_parent\"><img src=\"https://colab.research.google.com/assets/colab-badge.svg\" alt=\"Open In Colab\"/></a>"
      ]
    },
    {
      "cell_type": "code",
      "execution_count": 1,
      "metadata": {
        "id": "X1NdSjDSO1AH"
      },
      "outputs": [],
      "source": [
        "import numpy as np"
      ]
    },
    {
      "cell_type": "markdown",
      "source": [
        "## **1. What is a numpy array ?**"
      ],
      "metadata": {
        "id": "v2LksvloPus1"
      }
    },
    {
      "cell_type": "markdown",
      "source": [
        "A numpy array is a data structure provided by the numpy library. These arrays are grids of values of the same type. To create an array we use the np.array function along a list or nested list. If we set the dtype parameter to a datatype, the array will only contain values of that type."
      ],
      "metadata": {
        "id": "MGLIXqWLP197"
      }
    },
    {
      "cell_type": "code",
      "source": [
        "np.array([2,3,-3,256,128,129,256],dtype=np.int8)"
      ],
      "metadata": {
        "colab": {
          "base_uri": "https://localhost:8080/"
        },
        "id": "sZRNr89gO_8f",
        "outputId": "5116e9da-a61c-46c4-cfae-072866bb9471"
      },
      "execution_count": 18,
      "outputs": [
        {
          "output_type": "execute_result",
          "data": {
            "text/plain": [
              "array([   2,    3,   -3,    0, -128, -127,    0], dtype=int8)"
            ]
          },
          "metadata": {},
          "execution_count": 18
        }
      ]
    },
    {
      "cell_type": "code",
      "source": [
        "np.iinfo(np.int8)"
      ],
      "metadata": {
        "colab": {
          "base_uri": "https://localhost:8080/"
        },
        "id": "j_g-bsH2T4AQ",
        "outputId": "bd99687f-4bca-4c6a-958f-12789688e260"
      },
      "execution_count": 14,
      "outputs": [
        {
          "output_type": "execute_result",
          "data": {
            "text/plain": [
              "iinfo(min=-128, max=127, dtype=int8)"
            ]
          },
          "metadata": {},
          "execution_count": 14
        }
      ]
    },
    {
      "cell_type": "markdown",
      "source": [
        "At the cell above the dtype is set to np.int8, which means that the array will only contain values from -128 to 127. There are other types included in this library, for more information check out the numpy's documentation about the dtypes."
      ],
      "metadata": {
        "id": "D9uWRtvNRnQB"
      }
    },
    {
      "cell_type": "markdown",
      "source": [
        "https://numpy.org/devdocs/user/basics.types.html"
      ],
      "metadata": {
        "id": "fYh5jwh7ScPX"
      }
    },
    {
      "cell_type": "code",
      "source": [
        "np.array(['f','hello','1234'],dtype=str)"
      ],
      "metadata": {
        "colab": {
          "base_uri": "https://localhost:8080/"
        },
        "id": "ym8he7XFRGjw",
        "outputId": "859dddcf-db81-4f21-c785-144eb8dea737"
      },
      "execution_count": 7,
      "outputs": [
        {
          "output_type": "execute_result",
          "data": {
            "text/plain": [
              "array(['f', 'hello', '1234'], dtype='<U5')"
            ]
          },
          "metadata": {},
          "execution_count": 7
        }
      ]
    },
    {
      "cell_type": "markdown",
      "source": [
        "To determine the type of an array, the **dtype** attribute is used."
      ],
      "metadata": {
        "id": "h-oiC25oSfip"
      }
    },
    {
      "cell_type": "code",
      "source": [
        "np.array([23,5,45,45,2],dtype='f').dtype"
      ],
      "metadata": {
        "colab": {
          "base_uri": "https://localhost:8080/"
        },
        "id": "bZ1StFpkTaa7",
        "outputId": "5978d35b-ef66-4406-d7fb-42b253b0a1b1"
      },
      "execution_count": 13,
      "outputs": [
        {
          "output_type": "execute_result",
          "data": {
            "text/plain": [
              "dtype('float32')"
            ]
          },
          "metadata": {},
          "execution_count": 13
        }
      ]
    },
    {
      "cell_type": "markdown",
      "source": [
        "If we use nested lists to create arrays, the result is known as a N-dimensional array or ndarray. In numpy, dimensions are known as axes. These axes are obtained using the shape attribute."
      ],
      "metadata": {
        "id": "syTvFVg5VHfP"
      }
    },
    {
      "cell_type": "code",
      "source": [
        "array1 = np.array([[334,5465,654,989],[874,595,732,455]])\n",
        "array1"
      ],
      "metadata": {
        "colab": {
          "base_uri": "https://localhost:8080/"
        },
        "id": "etVH0iC6Q0-7",
        "outputId": "07516bd8-5666-4f02-c2fd-940d933c37a5"
      },
      "execution_count": 19,
      "outputs": [
        {
          "output_type": "execute_result",
          "data": {
            "text/plain": [
              "array([[ 334, 5465,  654,  989],\n",
              "       [ 874,  595,  732,  455]])"
            ]
          },
          "metadata": {},
          "execution_count": 19
        }
      ]
    },
    {
      "cell_type": "code",
      "source": [
        "array1.shape # Which means that the array has 2 rows and 4 columns"
      ],
      "metadata": {
        "colab": {
          "base_uri": "https://localhost:8080/"
        },
        "id": "1N4vDsvZQ7Zc",
        "outputId": "e578b1be-f0a7-4f1e-8d1a-53b0e4ee80ab"
      },
      "execution_count": 21,
      "outputs": [
        {
          "output_type": "execute_result",
          "data": {
            "text/plain": [
              "(2, 4)"
            ]
          },
          "metadata": {},
          "execution_count": 21
        }
      ]
    },
    {
      "cell_type": "markdown",
      "source": [
        "## **2.Useful functions to create arrays**"
      ],
      "metadata": {
        "id": "fv1bPrrbWcjQ"
      }
    },
    {
      "cell_type": "markdown",
      "source": [
        "The np.zeros function creates an array of the given size filled with 0's whereas the np.ones function does the same but filling the array with 1's."
      ],
      "metadata": {
        "id": "aMS_bptOWjRr"
      }
    },
    {
      "cell_type": "code",
      "source": [
        "np.zeros(5)"
      ],
      "metadata": {
        "colab": {
          "base_uri": "https://localhost:8080/"
        },
        "id": "taCaVx87WBSg",
        "outputId": "e4a4e6b5-d998-42f6-f7b8-a823f969c1b7"
      },
      "execution_count": 22,
      "outputs": [
        {
          "output_type": "execute_result",
          "data": {
            "text/plain": [
              "array([0., 0., 0., 0., 0.])"
            ]
          },
          "metadata": {},
          "execution_count": 22
        }
      ]
    },
    {
      "cell_type": "code",
      "source": [
        "np.zeros([2,3])"
      ],
      "metadata": {
        "colab": {
          "base_uri": "https://localhost:8080/"
        },
        "id": "eCtMe4UvWuXt",
        "outputId": "79ac560e-4e1b-40c1-cec0-4d3d34972719"
      },
      "execution_count": 23,
      "outputs": [
        {
          "output_type": "execute_result",
          "data": {
            "text/plain": [
              "array([[0., 0., 0.],\n",
              "       [0., 0., 0.]])"
            ]
          },
          "metadata": {},
          "execution_count": 23
        }
      ]
    },
    {
      "cell_type": "code",
      "source": [
        "np.ones(5)"
      ],
      "metadata": {
        "colab": {
          "base_uri": "https://localhost:8080/"
        },
        "id": "gxGcoNmkXFYV",
        "outputId": "d6a37bd8-9bc2-4025-952a-e879cbbe7099"
      },
      "execution_count": 25,
      "outputs": [
        {
          "output_type": "execute_result",
          "data": {
            "text/plain": [
              "array([1., 1., 1., 1., 1.])"
            ]
          },
          "metadata": {},
          "execution_count": 25
        }
      ]
    },
    {
      "cell_type": "code",
      "source": [
        "np.ones([2,3,4])"
      ],
      "metadata": {
        "colab": {
          "base_uri": "https://localhost:8080/"
        },
        "id": "gT0vvmJHWws5",
        "outputId": "42bbf07a-c37d-46a4-ada7-ab7a1fa9ca05"
      },
      "execution_count": 24,
      "outputs": [
        {
          "output_type": "execute_result",
          "data": {
            "text/plain": [
              "array([[[1., 1., 1., 1.],\n",
              "        [1., 1., 1., 1.],\n",
              "        [1., 1., 1., 1.]],\n",
              "\n",
              "       [[1., 1., 1., 1.],\n",
              "        [1., 1., 1., 1.],\n",
              "        [1., 1., 1., 1.]]])"
            ]
          },
          "metadata": {},
          "execution_count": 24
        }
      ]
    },
    {
      "cell_type": "markdown",
      "source": [
        "Numpy has a function called arange that generates a range of elements. The first parameter of the function is the lowest number of the range,the second parameter is the greatest number of the range and the last parameter corresponds to the step size. If the second and third parameters are removed, the function generates a range of number from zero to the given number."
      ],
      "metadata": {
        "id": "wfR4Uk1tXJ0s"
      }
    },
    {
      "cell_type": "code",
      "source": [
        "np.arange(5)"
      ],
      "metadata": {
        "colab": {
          "base_uri": "https://localhost:8080/"
        },
        "id": "McHzTQOiXCBZ",
        "outputId": "d9d85057-a1e0-40a5-e2dc-dc29705b099f"
      },
      "execution_count": 26,
      "outputs": [
        {
          "output_type": "execute_result",
          "data": {
            "text/plain": [
              "array([0, 1, 2, 3, 4])"
            ]
          },
          "metadata": {},
          "execution_count": 26
        }
      ]
    },
    {
      "cell_type": "code",
      "source": [
        "np.arange(1,7)"
      ],
      "metadata": {
        "colab": {
          "base_uri": "https://localhost:8080/"
        },
        "id": "1bjW5X9uXsaJ",
        "outputId": "7a119fcc-880c-4e97-fcc1-36ec78056c80"
      },
      "execution_count": 27,
      "outputs": [
        {
          "output_type": "execute_result",
          "data": {
            "text/plain": [
              "array([1, 2, 3, 4, 5, 6])"
            ]
          },
          "metadata": {},
          "execution_count": 27
        }
      ]
    },
    {
      "cell_type": "code",
      "source": [
        "np.arange(1,7,2)"
      ],
      "metadata": {
        "colab": {
          "base_uri": "https://localhost:8080/"
        },
        "id": "Wz9UFvOOXyFr",
        "outputId": "8557aaff-c3c0-4ce8-fcc3-62df918c489c"
      },
      "execution_count": 29,
      "outputs": [
        {
          "output_type": "execute_result",
          "data": {
            "text/plain": [
              "array([1, 3, 5])"
            ]
          },
          "metadata": {},
          "execution_count": 29
        }
      ]
    },
    {
      "cell_type": "markdown",
      "source": [
        "The np.linspace function creates an array with linearly spaced values, that is, it creates an array of floating values within the specified limits."
      ],
      "metadata": {
        "id": "pwttO6ULYWmU"
      }
    },
    {
      "cell_type": "markdown",
      "source": [
        "This function has several parameters. \n",
        "\n",
        "- The first parameter is the starting value of the sequence whilst the second parameter is the ending value. \n",
        "- The num parameter sets the number of values that will be generated.\n",
        "- The retstep parameter returns the stepsize along the array if it is set to True.\n",
        "- The endpoint parameter establishes wheter the stop value would be the last elemenet of the array or not. Its default value is True."
      ],
      "metadata": {
        "id": "MgsOTU2vZ3a9"
      }
    },
    {
      "cell_type": "code",
      "source": [
        "np.linspace(0,50)"
      ],
      "metadata": {
        "colab": {
          "base_uri": "https://localhost:8080/"
        },
        "id": "-e4RURMYX0-X",
        "outputId": "186db4de-bd33-41cb-a01c-4c58a6d9a5eb"
      },
      "execution_count": 38,
      "outputs": [
        {
          "output_type": "execute_result",
          "data": {
            "text/plain": [
              "array([ 0.        ,  1.02040816,  2.04081633,  3.06122449,  4.08163265,\n",
              "        5.10204082,  6.12244898,  7.14285714,  8.16326531,  9.18367347,\n",
              "       10.20408163, 11.2244898 , 12.24489796, 13.26530612, 14.28571429,\n",
              "       15.30612245, 16.32653061, 17.34693878, 18.36734694, 19.3877551 ,\n",
              "       20.40816327, 21.42857143, 22.44897959, 23.46938776, 24.48979592,\n",
              "       25.51020408, 26.53061224, 27.55102041, 28.57142857, 29.59183673,\n",
              "       30.6122449 , 31.63265306, 32.65306122, 33.67346939, 34.69387755,\n",
              "       35.71428571, 36.73469388, 37.75510204, 38.7755102 , 39.79591837,\n",
              "       40.81632653, 41.83673469, 42.85714286, 43.87755102, 44.89795918,\n",
              "       45.91836735, 46.93877551, 47.95918367, 48.97959184, 50.        ])"
            ]
          },
          "metadata": {},
          "execution_count": 38
        }
      ]
    },
    {
      "cell_type": "code",
      "source": [
        "np.linspace(0,50,num=10)"
      ],
      "metadata": {
        "colab": {
          "base_uri": "https://localhost:8080/"
        },
        "id": "T7pDc-Z0Zatj",
        "outputId": "68e34538-29bf-4358-b824-776e776777b7"
      },
      "execution_count": 39,
      "outputs": [
        {
          "output_type": "execute_result",
          "data": {
            "text/plain": [
              "array([ 0.        ,  5.55555556, 11.11111111, 16.66666667, 22.22222222,\n",
              "       27.77777778, 33.33333333, 38.88888889, 44.44444444, 50.        ])"
            ]
          },
          "metadata": {},
          "execution_count": 39
        }
      ]
    },
    {
      "cell_type": "code",
      "source": [
        "np.linspace(0,50,num=20,endpoint=False)"
      ],
      "metadata": {
        "colab": {
          "base_uri": "https://localhost:8080/"
        },
        "id": "CT7DtVUva9UH",
        "outputId": "525eff25-6781-4ed0-bb99-a3a41d921172"
      },
      "execution_count": 41,
      "outputs": [
        {
          "output_type": "execute_result",
          "data": {
            "text/plain": [
              "array([ 0. ,  2.5,  5. ,  7.5, 10. , 12.5, 15. , 17.5, 20. , 22.5, 25. ,\n",
              "       27.5, 30. , 32.5, 35. , 37.5, 40. , 42.5, 45. , 47.5])"
            ]
          },
          "metadata": {},
          "execution_count": 41
        }
      ]
    },
    {
      "cell_type": "code",
      "source": [
        "np.linspace(0,50,num=20,endpoint=False,retstep=True)"
      ],
      "metadata": {
        "colab": {
          "base_uri": "https://localhost:8080/"
        },
        "id": "06w1QvKcbFPf",
        "outputId": "9f54bcd9-c850-4651-a715-5e6fed7e9bbb"
      },
      "execution_count": 42,
      "outputs": [
        {
          "output_type": "execute_result",
          "data": {
            "text/plain": [
              "(array([ 0. ,  2.5,  5. ,  7.5, 10. , 12.5, 15. , 17.5, 20. , 22.5, 25. ,\n",
              "        27.5, 30. , 32.5, 35. , 37.5, 40. , 42.5, 45. , 47.5]), 2.5)"
            ]
          },
          "metadata": {},
          "execution_count": 42
        }
      ]
    },
    {
      "cell_type": "markdown",
      "source": [
        "## **3.Basic operations with arrays**"
      ],
      "metadata": {
        "id": "BF6kc-fvbg82"
      }
    },
    {
      "cell_type": "markdown",
      "source": [
        "### **Sorting**"
      ],
      "metadata": {
        "id": "qNY6AbHBdB8H"
      }
    },
    {
      "cell_type": "markdown",
      "source": [
        "In order to sort an unordered array we can simply use np.sort()"
      ],
      "metadata": {
        "id": "vg53K3BRbv-Q"
      }
    },
    {
      "cell_type": "code",
      "source": [
        "unsorted_array = np.array([2,5,6,56,76,4,3,1,34,412,34,5,21,],dtype=np.int16)\n",
        "unsorted_array"
      ],
      "metadata": {
        "colab": {
          "base_uri": "https://localhost:8080/"
        },
        "id": "HRCDErNsbMwE",
        "outputId": "94e24d7f-2d94-4596-855f-8c5e67cad5c2"
      },
      "execution_count": 44,
      "outputs": [
        {
          "output_type": "execute_result",
          "data": {
            "text/plain": [
              "array([  2,   5,   6,  56,  76,   4,   3,   1,  34, 412,  34,   5,  21],\n",
              "      dtype=int16)"
            ]
          },
          "metadata": {},
          "execution_count": 44
        }
      ]
    },
    {
      "cell_type": "code",
      "source": [
        "np.sort(unsorted_array)"
      ],
      "metadata": {
        "colab": {
          "base_uri": "https://localhost:8080/"
        },
        "id": "623KH3IecOak",
        "outputId": "0c1253ee-b13e-4ddb-8b0f-22e3698d20ba"
      },
      "execution_count": 45,
      "outputs": [
        {
          "output_type": "execute_result",
          "data": {
            "text/plain": [
              "array([  1,   2,   3,   4,   5,   5,   6,  21,  34,  34,  56,  76, 412],\n",
              "      dtype=int16)"
            ]
          },
          "metadata": {},
          "execution_count": 45
        }
      ]
    },
    {
      "cell_type": "markdown",
      "source": [
        "### **Concatenation**"
      ],
      "metadata": {
        "id": "7SETbAavdFaQ"
      }
    },
    {
      "cell_type": "markdown",
      "source": [
        "Multiple arrays can be concatenated with the np.concatenate function."
      ],
      "metadata": {
        "id": "dIN2_43CdMUl"
      }
    },
    {
      "cell_type": "code",
      "source": [
        "array1 = np.array([4.5,6.5,0,9])\n",
        "array2 = np.array([5.57,4,54.4,39])\n",
        "array3 = np.array([4.2,34,89.6,71])\n",
        "np.concatenate((array1,array2,array3))"
      ],
      "metadata": {
        "colab": {
          "base_uri": "https://localhost:8080/"
        },
        "id": "kGAu18AFcTYr",
        "outputId": "d18ca599-d5f6-46d1-ac70-d1bb59c9f053"
      },
      "execution_count": 47,
      "outputs": [
        {
          "output_type": "execute_result",
          "data": {
            "text/plain": [
              "array([ 4.5 ,  6.5 ,  0.  ,  9.  ,  5.57,  4.  , 54.4 , 39.  ,  4.2 ,\n",
              "       34.  , 89.6 , 71.  ])"
            ]
          },
          "metadata": {},
          "execution_count": 47
        }
      ]
    },
    {
      "cell_type": "markdown",
      "source": [
        "Those arrays do not necessary need to have the same lenght"
      ],
      "metadata": {
        "id": "39AnQdQJe4me"
      }
    },
    {
      "cell_type": "code",
      "source": [
        "array1 = np.array([4.5,6.5,0,9,56])\n",
        "array2 = np.array([5.57,4,54.4])\n",
        "array3 = np.array([4.2,34,89.6,71])\n",
        "np.concatenate((array1,array2,array3))"
      ],
      "metadata": {
        "colab": {
          "base_uri": "https://localhost:8080/"
        },
        "id": "iJkwvyKxdyj6",
        "outputId": "fca7c367-57bb-41f6-ac63-799ed7f340ed"
      },
      "execution_count": 48,
      "outputs": [
        {
          "output_type": "execute_result",
          "data": {
            "text/plain": [
              "array([ 4.5 ,  6.5 ,  0.  ,  9.  , 56.  ,  5.57,  4.  , 54.4 ,  4.2 ,\n",
              "       34.  , 89.6 , 71.  ])"
            ]
          },
          "metadata": {},
          "execution_count": 48
        }
      ]
    },
    {
      "cell_type": "markdown",
      "source": [
        "The concatenation works even with different dtypes."
      ],
      "metadata": {
        "id": "kDq4fZeUe_ut"
      }
    },
    {
      "cell_type": "code",
      "source": [
        "array1 = np.array([4.5,6.5,0,9,56])\n",
        "array2 = np.array(['434','bananas','apple','tomato'])\n",
        "array3 = np.array([1,2,3,4,4,2])\n",
        "np.concatenate((array1,array2,array3))"
      ],
      "metadata": {
        "colab": {
          "base_uri": "https://localhost:8080/"
        },
        "id": "D5GLSe6Od-RZ",
        "outputId": "2c6fe588-4aa8-4935-c3e8-0260a990bc55"
      },
      "execution_count": 49,
      "outputs": [
        {
          "output_type": "execute_result",
          "data": {
            "text/plain": [
              "array(['4.5', '6.5', '0.0', '9.0', '56.0', '434', 'bananas', 'apple',\n",
              "       'tomato', '1', '2', '3', '4', '4', '2'], dtype='<U32')"
            ]
          },
          "metadata": {},
          "execution_count": 49
        }
      ]
    },
    {
      "cell_type": "markdown",
      "source": [
        "The concatenation also works for arrays of different dimensions as long as they have at least one common dimension."
      ],
      "metadata": {
        "id": "dB6JAGBTfJ7m"
      }
    },
    {
      "cell_type": "code",
      "source": [
        "array1 = np.array([[1,2,3],[1,2,3]])\n",
        "array2 = np.array([[4,5,6]])\n",
        "np.concatenate((array1,array2),axis=0) # This line concatenates the arrays at the first axis."
      ],
      "metadata": {
        "colab": {
          "base_uri": "https://localhost:8080/"
        },
        "id": "GAqq4M7IeLss",
        "outputId": "8c7c6aba-8396-4e0b-c6a5-73ffeb243cf5"
      },
      "execution_count": 57,
      "outputs": [
        {
          "output_type": "execute_result",
          "data": {
            "text/plain": [
              "array([[1, 2, 3],\n",
              "       [1, 2, 3],\n",
              "       [4, 5, 6]])"
            ]
          },
          "metadata": {},
          "execution_count": 57
        }
      ]
    },
    {
      "cell_type": "code",
      "source": [
        "array1.shape"
      ],
      "metadata": {
        "colab": {
          "base_uri": "https://localhost:8080/"
        },
        "id": "XaiC1cGseb2d",
        "outputId": "0461e654-85a2-4848-fcd3-1b006a7c908c"
      },
      "execution_count": 55,
      "outputs": [
        {
          "output_type": "execute_result",
          "data": {
            "text/plain": [
              "(2, 3)"
            ]
          },
          "metadata": {},
          "execution_count": 55
        }
      ]
    },
    {
      "cell_type": "code",
      "source": [
        "array2.shape"
      ],
      "metadata": {
        "colab": {
          "base_uri": "https://localhost:8080/"
        },
        "id": "UDMYCzL1euhs",
        "outputId": "766f0f21-10d0-4359-af01-216acb591f71"
      },
      "execution_count": 56,
      "outputs": [
        {
          "output_type": "execute_result",
          "data": {
            "text/plain": [
              "(1, 3)"
            ]
          },
          "metadata": {},
          "execution_count": 56
        }
      ]
    },
    {
      "cell_type": "markdown",
      "source": [
        "### **Matrix multiplication and dot product**"
      ],
      "metadata": {
        "id": "E2AkKtjLgZIT"
      }
    },
    {
      "cell_type": "markdown",
      "source": [
        "The dot product is defined with the @ operator and the dot procut is defined by np.dot()"
      ],
      "metadata": {
        "id": "YDOD0awRgtDW"
      }
    },
    {
      "cell_type": "code",
      "source": [
        "A = np.array([[1,2,3],[4,5,6]])\n",
        "B = np.array([[2,1,1],[0,2,2],[2,3,1]])\n",
        "A @ B"
      ],
      "metadata": {
        "colab": {
          "base_uri": "https://localhost:8080/"
        },
        "id": "FackQ4-_f-l4",
        "outputId": "9c097565-ffae-4485-97db-a06a0a60906f"
      },
      "execution_count": 60,
      "outputs": [
        {
          "output_type": "execute_result",
          "data": {
            "text/plain": [
              "array([[ 8, 14,  8],\n",
              "       [20, 32, 20]])"
            ]
          },
          "metadata": {},
          "execution_count": 60
        }
      ]
    },
    {
      "cell_type": "code",
      "source": [
        "np.dot([1,2],[2,3])"
      ],
      "metadata": {
        "colab": {
          "base_uri": "https://localhost:8080/"
        },
        "id": "Hst6LdVceypa",
        "outputId": "864d68b5-0c55-4de4-ab1a-f5b4f0adde98"
      },
      "execution_count": 61,
      "outputs": [
        {
          "output_type": "execute_result",
          "data": {
            "text/plain": [
              "8"
            ]
          },
          "metadata": {},
          "execution_count": 61
        }
      ]
    }
  ]
}